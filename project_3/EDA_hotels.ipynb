{
 "cells": [
  {
   "cell_type": "markdown",
   "metadata": {},
   "source": [
    "# PROJECT-3. EDA + Feature Engineering. Соревнование на Kaggle"
   ]
  },
  {
   "cell_type": "markdown",
   "metadata": {},
   "source": [
    "## 0. Описание кейса и постановка задачи\n",
    "\n",
    "Представьте, что вы работаете дата-сайентистом в компании Booking. Одна из проблем компании — это нечестные отели, которые накручивают себе рейтинг. Одним из способов обнаружения таких отелей является построение модели, *которая предсказывает рейтинг отеля*. Если предсказания модели сильно отличаются от фактического результата, то, возможно, отель ведёт себя нечестно, и его стоит проверить.\n",
    "\n",
    "Вы будете работать с датасетом, в котором содержатся сведения о 515 000 отзывов на отели Европы. Модель, которую вы будете обучать, должна предсказывать рейтинг отеля по данным сайта Booking на основе имеющихся в датасете данных. Изученные нами навыки разведывательного анализа помогут улучшить модель.\n",
    "\n",
    "Первоначальная версия датасета содержит 17 полей со следующей информацией:\n",
    "\n",
    "- hotel_address — адрес отеля;\n",
    "- review_date — дата, когда рецензент разместил соответствующий отзыв;\n",
    "- average_score — средний балл отеля, рассчитанный на основе последнего комментария за последний год;\n",
    "- hotel_name — название отеля;\n",
    "- reviewer_nationality — страна рецензента;\n",
    "- negative_review — отрицательный отзыв, который рецензент дал отелю;\n",
    "- review_total_negative_word_counts — общее количество слов в отрицательном отзыв;\n",
    "- positive_review — положительный отзыв, который рецензент дал отелю;\n",
    "- review_total_positive_word_counts — общее количество слов в положительном отзыве.\n",
    "- reviewer_score — оценка, которую рецензент поставил отелю на основе своего опыта;\n",
    "- total_number_of_reviews_reviewer_has_given — количество отзывов, которые рецензенты дали в прошлом;\n",
    "- total_number_of_reviews — общее количество действительных отзывов об отеле;\n",
    "- tags — теги, которые рецензент дал отелю;\n",
    "- days_since_review — количество дней между датой проверки и датой очистки;\n",
    "- additional_number_of_scoring — есть также некоторые гости, которые просто поставили оценку сервису, но не оставили отзыв. Это число указывает, сколько там действительных оценок без проверки.\n",
    "- lat — географическая широта отеля;\n",
    "- lng — географическая долгота отеля."
   ]
  },
  {
   "cell_type": "markdown",
   "metadata": {},
   "source": [
    "## 1. Подготовка к работе"
   ]
  },
  {
   "cell_type": "markdown",
   "metadata": {},
   "source": [
    "### 1.1. Импорт библиотек"
   ]
  },
  {
   "cell_type": "code",
   "execution_count": 1,
   "metadata": {},
   "outputs": [],
   "source": [
    "import pandas as pd\n",
    "\n",
    "# Загружаем специальный инструмент для разбивки данных:  \n",
    "from sklearn.model_selection import train_test_split\n",
    "\n",
    "# Импортируем необходимые библиотеки:\n",
    "# инструмент для создания и обучения модели\n",
    "from sklearn.ensemble import RandomForestRegressor\n",
    "# инструменты для оценки точности модели\n",
    "from sklearn import metrics\n",
    "\n",
    "# библиотека для логирования эксперимента\n",
    "from comet_ml import Experiment\n",
    "\n",
    "# Библиотеки визуализации\n",
    "import matplotlib\n",
    "import matplotlib.pyplot as plt\n",
    "import seaborn as sns\n",
    "\n",
    "# Установка параметров визуализации\n",
    "plt.rcParams['figure.dpi'] = 100\n",
    "plt.rcParams['savefig.dpi'] = 300\n",
    "sns.set_theme(style='darkgrid')"
   ]
  },
  {
   "cell_type": "markdown",
   "metadata": {},
   "source": [
    "### 1.1. Собственные функции\n",
    "\n",
    "TODO: Перенести в отдельный модуль"
   ]
  },
  {
   "cell_type": "markdown",
   "metadata": {},
   "source": [
    "Функция построения графиков распределения"
   ]
  },
  {
   "cell_type": "code",
   "execution_count": 26,
   "metadata": {},
   "outputs": [],
   "source": [
    "def box_hist_plot(data: pd.DataFrame, x: str, title: str, hist_kde=False, hist_yscale='linear', box_showmeans=True, height_ratios=(.15, .85)) -> matplotlib.figure.Figure:\n",
    "    \"\"\"Plot Seaborn boxplot and histplot one above the other\n",
    "\n",
    "    Args:\n",
    "        data (pd.DataFrame): Data for plotting\n",
    "        x (str): Columns name for plotting\n",
    "        title (str): Figure (plot) name\n",
    "        hist_kde (bool): If True, compute a Kernel Density Estimate. Defaults to False.\n",
    "        hist_yscale (str): Hist count axis Scale. Defaults to 'linear'.\n",
    "        box_showmeans (bool): Show mean-value point with the marker. Defaults to True.\n",
    "        height_ratios (tuple): Height ratios of the boxplot and histplot. Defaults to (.15, .85).\n",
    "\n",
    "    Returns:\n",
    "        matplotlib.figure.Figure: Figure with seaborn boxplot and hitstplot\n",
    "    \"\"\"\n",
    "    # Create a figure composed of two axes objects\n",
    "    f, (ax_box, ax_hist) = plt.subplots(2, sharex=True, \n",
    "        gridspec_kw={\n",
    "            'height_ratios': height_ratios\n",
    "    })\n",
    "    # Set up figure\n",
    "    f.suptitle(title);\n",
    "    f.tight_layout()\n",
    "\n",
    "    # Plot boxplot\n",
    "    sns.boxplot(data=data, x=x, showmeans=box_showmeans, \n",
    "                meanprops={\"marker\":\"1\",\n",
    "                        \"markeredgecolor\":\"white\",\n",
    "                        \"markersize\":\"10\"}, \n",
    "                ax=ax_box)\n",
    "    ax_box.set(xlabel=None)\n",
    "\n",
    "    # Plot histplot\n",
    "    sns.histplot(data=data, x=x, kde=hist_kde, ax=ax_hist)\n",
    "    ax_hist.set_yscale(hist_yscale)\n",
    "    plt.close(f)    \n",
    "    # Return figure\n",
    "    return f"
   ]
  },
  {
   "cell_type": "markdown",
   "metadata": {},
   "source": [
    "### 1.2. Запуск эксперимента"
   ]
  },
  {
   "cell_type": "code",
   "execution_count": 3,
   "metadata": {},
   "outputs": [],
   "source": [
    "# experiment = Experiment(\n",
    "#     api_key='3gDYBYgwtqbTbf3z0fBLFin1U',\n",
    "#     project_name='booking-reviews',\n",
    "#     workspace='mvulf'\n",
    "# )"
   ]
  },
  {
   "cell_type": "markdown",
   "metadata": {},
   "source": [
    "### 1.3. Константы обучения"
   ]
  },
  {
   "cell_type": "code",
   "execution_count": 4,
   "metadata": {},
   "outputs": [],
   "source": [
    "TEST_SIZE = 0.25\n",
    "RANDOM_STATE = 42\n",
    "N_ESTIMATORS = 100\n",
    "TARGET_NAME = 'reviewer_score'\n",
    "\n",
    "if 'experiment' in locals():\n",
    "    # Логируем применяемые параметры\n",
    "    params = {\n",
    "        'test_size': TEST_SIZE,\n",
    "        'random_state': RANDOM_STATE,\n",
    "        'n_estimators': N_ESTIMATORS,\n",
    "        'target_name': TARGET_NAME\n",
    "    }\n",
    "    experiment.log_parameters(params)"
   ]
  },
  {
   "cell_type": "markdown",
   "metadata": {},
   "source": [
    "### 1.4. Загрузка данных"
   ]
  },
  {
   "cell_type": "code",
   "execution_count": 5,
   "metadata": {},
   "outputs": [
    {
     "data": {
      "text/html": [
       "<div>\n",
       "<style scoped>\n",
       "    .dataframe tbody tr th:only-of-type {\n",
       "        vertical-align: middle;\n",
       "    }\n",
       "\n",
       "    .dataframe tbody tr th {\n",
       "        vertical-align: top;\n",
       "    }\n",
       "\n",
       "    .dataframe thead th {\n",
       "        text-align: right;\n",
       "    }\n",
       "</style>\n",
       "<table border=\"1\" class=\"dataframe\">\n",
       "  <thead>\n",
       "    <tr style=\"text-align: right;\">\n",
       "      <th></th>\n",
       "      <th>hotel_address</th>\n",
       "      <th>additional_number_of_scoring</th>\n",
       "      <th>review_date</th>\n",
       "      <th>average_score</th>\n",
       "      <th>hotel_name</th>\n",
       "      <th>reviewer_nationality</th>\n",
       "      <th>negative_review</th>\n",
       "      <th>review_total_negative_word_counts</th>\n",
       "      <th>total_number_of_reviews</th>\n",
       "      <th>positive_review</th>\n",
       "      <th>review_total_positive_word_counts</th>\n",
       "      <th>total_number_of_reviews_reviewer_has_given</th>\n",
       "      <th>reviewer_score</th>\n",
       "      <th>tags</th>\n",
       "      <th>days_since_review</th>\n",
       "      <th>lat</th>\n",
       "      <th>lng</th>\n",
       "    </tr>\n",
       "  </thead>\n",
       "  <tbody>\n",
       "    <tr>\n",
       "      <th>0</th>\n",
       "      <td>Stratton Street Mayfair Westminster Borough Lo...</td>\n",
       "      <td>581</td>\n",
       "      <td>2/19/2016</td>\n",
       "      <td>8.4</td>\n",
       "      <td>The May Fair Hotel</td>\n",
       "      <td>United Kingdom</td>\n",
       "      <td>Leaving</td>\n",
       "      <td>3</td>\n",
       "      <td>1994</td>\n",
       "      <td>Staff were amazing</td>\n",
       "      <td>4</td>\n",
       "      <td>7</td>\n",
       "      <td>10.0</td>\n",
       "      <td>[' Leisure trip ', ' Couple ', ' Studio Suite ...</td>\n",
       "      <td>531 day</td>\n",
       "      <td>51.507894</td>\n",
       "      <td>-0.143671</td>\n",
       "    </tr>\n",
       "    <tr>\n",
       "      <th>1</th>\n",
       "      <td>130 134 Southampton Row Camden London WC1B 5AF...</td>\n",
       "      <td>299</td>\n",
       "      <td>1/12/2017</td>\n",
       "      <td>8.3</td>\n",
       "      <td>Mercure London Bloomsbury Hotel</td>\n",
       "      <td>United Kingdom</td>\n",
       "      <td>poor breakfast</td>\n",
       "      <td>3</td>\n",
       "      <td>1361</td>\n",
       "      <td>location</td>\n",
       "      <td>2</td>\n",
       "      <td>14</td>\n",
       "      <td>6.3</td>\n",
       "      <td>[' Business trip ', ' Couple ', ' Standard Dou...</td>\n",
       "      <td>203 day</td>\n",
       "      <td>51.521009</td>\n",
       "      <td>-0.123097</td>\n",
       "    </tr>\n",
       "    <tr>\n",
       "      <th>2</th>\n",
       "      <td>151 bis Rue de Rennes 6th arr 75006 Paris France</td>\n",
       "      <td>32</td>\n",
       "      <td>10/18/2016</td>\n",
       "      <td>8.9</td>\n",
       "      <td>Legend Saint Germain by Elegancia</td>\n",
       "      <td>China</td>\n",
       "      <td>No kettle in room</td>\n",
       "      <td>6</td>\n",
       "      <td>406</td>\n",
       "      <td>No Positive</td>\n",
       "      <td>0</td>\n",
       "      <td>14</td>\n",
       "      <td>7.5</td>\n",
       "      <td>[' Leisure trip ', ' Solo traveler ', ' Modern...</td>\n",
       "      <td>289 day</td>\n",
       "      <td>48.845377</td>\n",
       "      <td>2.325643</td>\n",
       "    </tr>\n",
       "  </tbody>\n",
       "</table>\n",
       "</div>"
      ],
      "text/plain": [
       "                                       hotel_address  \\\n",
       "0  Stratton Street Mayfair Westminster Borough Lo...   \n",
       "1  130 134 Southampton Row Camden London WC1B 5AF...   \n",
       "2   151 bis Rue de Rennes 6th arr 75006 Paris France   \n",
       "\n",
       "   additional_number_of_scoring review_date  average_score  \\\n",
       "0                           581   2/19/2016            8.4   \n",
       "1                           299   1/12/2017            8.3   \n",
       "2                            32  10/18/2016            8.9   \n",
       "\n",
       "                          hotel_name reviewer_nationality  \\\n",
       "0                 The May Fair Hotel      United Kingdom    \n",
       "1    Mercure London Bloomsbury Hotel      United Kingdom    \n",
       "2  Legend Saint Germain by Elegancia               China    \n",
       "\n",
       "       negative_review  review_total_negative_word_counts  \\\n",
       "0             Leaving                                   3   \n",
       "1       poor breakfast                                  3   \n",
       "2   No kettle in room                                   6   \n",
       "\n",
       "   total_number_of_reviews      positive_review  \\\n",
       "0                     1994   Staff were amazing   \n",
       "1                     1361             location   \n",
       "2                      406          No Positive   \n",
       "\n",
       "   review_total_positive_word_counts  \\\n",
       "0                                  4   \n",
       "1                                  2   \n",
       "2                                  0   \n",
       "\n",
       "   total_number_of_reviews_reviewer_has_given  reviewer_score  \\\n",
       "0                                           7            10.0   \n",
       "1                                          14             6.3   \n",
       "2                                          14             7.5   \n",
       "\n",
       "                                                tags days_since_review  \\\n",
       "0  [' Leisure trip ', ' Couple ', ' Studio Suite ...           531 day   \n",
       "1  [' Business trip ', ' Couple ', ' Standard Dou...           203 day   \n",
       "2  [' Leisure trip ', ' Solo traveler ', ' Modern...           289 day   \n",
       "\n",
       "         lat       lng  \n",
       "0  51.507894 -0.143671  \n",
       "1  51.521009 -0.123097  \n",
       "2  48.845377  2.325643  "
      ]
     },
     "execution_count": 5,
     "metadata": {},
     "output_type": "execute_result"
    }
   ],
   "source": [
    "# Загрузим данные с переводом строки-списка в список\n",
    "hotels = pd.read_csv('input/hotels.csv')\n",
    "hotels.head(3)"
   ]
  },
  {
   "cell_type": "markdown",
   "metadata": {},
   "source": [
    "## 2. Понимание данных"
   ]
  },
  {
   "cell_type": "code",
   "execution_count": 6,
   "metadata": {},
   "outputs": [
    {
     "name": "stdout",
     "output_type": "stream",
     "text": [
      "<class 'pandas.core.frame.DataFrame'>\n",
      "RangeIndex: 386803 entries, 0 to 386802\n",
      "Data columns (total 17 columns):\n",
      " #   Column                                      Non-Null Count   Dtype  \n",
      "---  ------                                      --------------   -----  \n",
      " 0   hotel_address                               386803 non-null  object \n",
      " 1   additional_number_of_scoring                386803 non-null  int64  \n",
      " 2   review_date                                 386803 non-null  object \n",
      " 3   average_score                               386803 non-null  float64\n",
      " 4   hotel_name                                  386803 non-null  object \n",
      " 5   reviewer_nationality                        386803 non-null  object \n",
      " 6   negative_review                             386803 non-null  object \n",
      " 7   review_total_negative_word_counts           386803 non-null  int64  \n",
      " 8   total_number_of_reviews                     386803 non-null  int64  \n",
      " 9   positive_review                             386803 non-null  object \n",
      " 10  review_total_positive_word_counts           386803 non-null  int64  \n",
      " 11  total_number_of_reviews_reviewer_has_given  386803 non-null  int64  \n",
      " 12  reviewer_score                              386803 non-null  float64\n",
      " 13  tags                                        386803 non-null  object \n",
      " 14  days_since_review                           386803 non-null  object \n",
      " 15  lat                                         384355 non-null  float64\n",
      " 16  lng                                         384355 non-null  float64\n",
      "dtypes: float64(4), int64(5), object(8)\n",
      "memory usage: 50.2+ MB\n"
     ]
    }
   ],
   "source": [
    "hotels.info()"
   ]
  },
  {
   "cell_type": "markdown",
   "metadata": {},
   "source": [
    "Явные пропуски содержатся в колонках долготы и широты местоположения отеля (lat & lng).\n",
    "В числовом формате данные хранятся в 9 из 16 столбцах."
   ]
  },
  {
   "cell_type": "markdown",
   "metadata": {},
   "source": [
    "#### **hotel_address** и **hotel_name**"
   ]
  },
  {
   "cell_type": "markdown",
   "metadata": {},
   "source": [
    "Оценим количество отелей в данных"
   ]
  },
  {
   "cell_type": "code",
   "execution_count": 7,
   "metadata": {},
   "outputs": [
    {
     "name": "stdout",
     "output_type": "stream",
     "text": [
      "Количество уникальных адресов отелей: 1493\n",
      "Количество уникальных имён отелей: 1492\n"
     ]
    }
   ],
   "source": [
    "print(f\"Количество уникальных адресов отелей: {hotels['hotel_address'].nunique()}\")\n",
    "print(f\"Количество уникальных имён отелей: {hotels['hotel_name'].nunique()}\")"
   ]
  },
  {
   "cell_type": "markdown",
   "metadata": {},
   "source": [
    "Похоже, что на одно название отеля приходится 2 адреса. Определим, что это за отель."
   ]
  },
  {
   "cell_type": "code",
   "execution_count": 8,
   "metadata": {},
   "outputs": [
    {
     "data": {
      "text/plain": [
       "hotel_name\n",
       "Hotel Regina                                    3\n",
       "11 Cadogan Gardens                              1\n",
       "Mercure Paris Gare Montparnasse                 1\n",
       "Mercure Paris Pigalle Sacre Coeur               1\n",
       "Mercure Paris Opera Louvre                      1\n",
       "                                               ..\n",
       "Ham Yard Hotel                                  1\n",
       "Hallmark Hotel London Chigwell Prince Regent    1\n",
       "HCC St Moritz                                   1\n",
       "HCC Regente                                     1\n",
       "pentahotel Vienna                               1\n",
       "Name: hotel_address, Length: 1492, dtype: int64"
      ]
     },
     "execution_count": 8,
     "metadata": {},
     "output_type": "execute_result"
    }
   ],
   "source": [
    "# Сгруппируем по именам отелей и определим уникальные адреса\n",
    "hotels_addresses = hotels.groupby(by='hotel_name')['hotel_address'].nunique()\n",
    "# Проанализируем количество уникальных адресов для каждого отеля\n",
    "n_hotels_addresses = hotels_addresses.sort_values(ascending=False)\n",
    "n_hotels_addresses"
   ]
  },
  {
   "cell_type": "markdown",
   "metadata": {},
   "source": [
    "Таким образом, мы видим, что только у \"Hotel Regina\" имеется несколько уникальных адресов. Посмотрим на эти адреса"
   ]
  },
  {
   "cell_type": "code",
   "execution_count": 9,
   "metadata": {},
   "outputs": [
    {
     "name": "stdout",
     "output_type": "stream",
     "text": [
      "Адреса отеля Hotel Regina: ['Bergara 2 4 Eixample 08002 Barcelona Spain', 'Rooseveltplatz 15 09 Alsergrund 1090 Vienna Austria', 'Via Cesare Correnti 13 Milan City Center 20123 Milan Italy']\n"
     ]
    }
   ],
   "source": [
    "# Извлечём название отеля с несколькими адресами\n",
    "frequent_hotel = n_hotels_addresses.index[0]\n",
    "\n",
    "# Проанализируем адреса этого отеля\n",
    "frequent_hotel_addresses = list(hotels[hotels['hotel_name'] == frequent_hotel]['hotel_address'].unique())\n",
    "print(f'Адреса отеля {frequent_hotel}: {frequent_hotel_addresses}')"
   ]
  },
  {
   "cell_type": "markdown",
   "metadata": {},
   "source": [
    "У \"Hotel Regina\" есть 3 адреса в различных странах: Испания, Италия и Австрия.\n",
    "\n",
    "При этом число уникальных названий отелей и уникальных адресов отличается только на 1 в пользу адреса. Можно предположить, что есть дублирование адреса. Проверим."
   ]
  },
  {
   "cell_type": "code",
   "execution_count": 10,
   "metadata": {},
   "outputs": [
    {
     "data": {
      "text/plain": [
       "hotel_address\n",
       "8 Northumberland Avenue Westminster Borough London WC2N 5BY United Kingdom    2\n",
       "Hernalser Hauptstra e 105 17 Hernals 1170 Vienna Austria                      1\n",
       "Hoffingergasse 26 28 12 Meidling 1120 Vienna Austria                          1\n",
       "Hobbemakade 50 Oud Zuid 1071 XL Amsterdam Netherlands                         1\n",
       "Hintschiggasse 1 10 Favoriten 1100 Vienna Austria                             1\n",
       "Name: hotel_name, dtype: int64"
      ]
     },
     "execution_count": 10,
     "metadata": {},
     "output_type": "execute_result"
    }
   ],
   "source": [
    "# Сгруппируем по адресам отелей и определим уникальные имена\n",
    "hotels_names = hotels.groupby(by='hotel_address')['hotel_name'].nunique()\n",
    "# Проанализируем количество уникальных имён для каждого адреса\n",
    "n_hotels_names = hotels_names.sort_values(ascending=False)\n",
    "n_hotels_names.head(5)"
   ]
  },
  {
   "cell_type": "markdown",
   "metadata": {},
   "source": [
    "Таким образом, есть адрес, по которому зарегистрировано 2 отеля. Посмотрим на названия отелей."
   ]
  },
  {
   "cell_type": "code",
   "execution_count": 11,
   "metadata": {},
   "outputs": [
    {
     "name": "stdout",
     "output_type": "stream",
     "text": [
      "Названия отелей по адресу 8 Northumberland Avenue Westminster Borough London WC2N 5BY United Kingdom: ['The Grand at Trafalgar Square', 'Club Quarters Hotel Trafalgar Square']\n"
     ]
    }
   ],
   "source": [
    "# Извлечём адрес с несколькими отелями\n",
    "frequent_address = n_hotels_names.index[0]\n",
    "\n",
    "# Проанализируем отели одного адреса\n",
    "frequent_address_hotels = list(hotels[hotels['hotel_address'] == frequent_address]['hotel_name'].unique())\n",
    "print(f'Названия отелей по адресу {frequent_address}: {frequent_address_hotels}')"
   ]
  },
  {
   "cell_type": "markdown",
   "metadata": {},
   "source": [
    "Проверка с помощью онлайн-карт google подтвердила, что по одному адресу зарегистрированы 2 отеля."
   ]
  },
  {
   "cell_type": "markdown",
   "metadata": {},
   "source": [
    "Посмотрим на частоту отзывов отелей:"
   ]
  },
  {
   "cell_type": "code",
   "execution_count": 12,
   "metadata": {},
   "outputs": [
    {
     "data": {
      "text/html": [
       "<div>\n",
       "<style scoped>\n",
       "    .dataframe tbody tr th:only-of-type {\n",
       "        vertical-align: middle;\n",
       "    }\n",
       "\n",
       "    .dataframe tbody tr th {\n",
       "        vertical-align: top;\n",
       "    }\n",
       "\n",
       "    .dataframe thead th {\n",
       "        text-align: right;\n",
       "    }\n",
       "</style>\n",
       "<table border=\"1\" class=\"dataframe\">\n",
       "  <thead>\n",
       "    <tr style=\"text-align: right;\">\n",
       "      <th></th>\n",
       "      <th>hotel_name</th>\n",
       "      <th>hotel_address</th>\n",
       "      <th>review_date</th>\n",
       "    </tr>\n",
       "  </thead>\n",
       "  <tbody>\n",
       "    <tr>\n",
       "      <th>0</th>\n",
       "      <td>Mercure Paris Porte d Orleans</td>\n",
       "      <td>13 Rue Fran ois Ory 92120 Paris France</td>\n",
       "      <td>5</td>\n",
       "    </tr>\n",
       "    <tr>\n",
       "      <th>1</th>\n",
       "      <td>Hotel Wagner</td>\n",
       "      <td>Via M Buonarroti 13 Fiera Milano City 20149 Mi...</td>\n",
       "      <td>6</td>\n",
       "    </tr>\n",
       "    <tr>\n",
       "      <th>2</th>\n",
       "      <td>Hotel Gallitzinberg</td>\n",
       "      <td>Johann Staud Stra e 32 16 Ottakring 1160 Vienn...</td>\n",
       "      <td>6</td>\n",
       "    </tr>\n",
       "    <tr>\n",
       "      <th>3</th>\n",
       "      <td>Renaissance Paris Republique Hotel Spa</td>\n",
       "      <td>40 Rue Rene Boulanger 10th arr 75010 Paris France</td>\n",
       "      <td>7</td>\n",
       "    </tr>\n",
       "    <tr>\n",
       "      <th>4</th>\n",
       "      <td>Ibis Styles Milano Palmanova</td>\n",
       "      <td>Via Palmanova 153 20132 Milan Italy</td>\n",
       "      <td>7</td>\n",
       "    </tr>\n",
       "    <tr>\n",
       "      <th>...</th>\n",
       "      <td>...</td>\n",
       "      <td>...</td>\n",
       "      <td>...</td>\n",
       "    </tr>\n",
       "    <tr>\n",
       "      <th>1195</th>\n",
       "      <td>LaGare Hotel Milano Centrale MGallery by Sofitel</td>\n",
       "      <td>Via Gian Battista Pirelli 20 Central Station 2...</td>\n",
       "      <td>381</td>\n",
       "    </tr>\n",
       "    <tr>\n",
       "      <th>1196</th>\n",
       "      <td>Park International Hotel</td>\n",
       "      <td>117 129 Cromwell Road Kensington and Chelsea L...</td>\n",
       "      <td>382</td>\n",
       "    </tr>\n",
       "    <tr>\n",
       "      <th>1197</th>\n",
       "      <td>H10 Metropolitan 4 Sup</td>\n",
       "      <td>Rambla Catalunya 7 9 Eixample 08007 Barcelona ...</td>\n",
       "      <td>382</td>\n",
       "    </tr>\n",
       "    <tr>\n",
       "      <th>1198</th>\n",
       "      <td>Novotel Paris Les Halles</td>\n",
       "      <td>8 Place Marguerite de Navarre 1st arr 75001 Pa...</td>\n",
       "      <td>383</td>\n",
       "    </tr>\n",
       "    <tr>\n",
       "      <th>1199</th>\n",
       "      <td>Bianca Maria Palace Hotel</td>\n",
       "      <td>Viale Bianca Maria 4 Milan City Center 20129 M...</td>\n",
       "      <td>383</td>\n",
       "    </tr>\n",
       "  </tbody>\n",
       "</table>\n",
       "<p>1200 rows × 3 columns</p>\n",
       "</div>"
      ],
      "text/plain": [
       "                                            hotel_name  \\\n",
       "0                        Mercure Paris Porte d Orleans   \n",
       "1                                         Hotel Wagner   \n",
       "2                                  Hotel Gallitzinberg   \n",
       "3               Renaissance Paris Republique Hotel Spa   \n",
       "4                         Ibis Styles Milano Palmanova   \n",
       "...                                                ...   \n",
       "1195  LaGare Hotel Milano Centrale MGallery by Sofitel   \n",
       "1196                          Park International Hotel   \n",
       "1197                            H10 Metropolitan 4 Sup   \n",
       "1198                          Novotel Paris Les Halles   \n",
       "1199                         Bianca Maria Palace Hotel   \n",
       "\n",
       "                                          hotel_address  review_date  \n",
       "0                13 Rue Fran ois Ory 92120 Paris France            5  \n",
       "1     Via M Buonarroti 13 Fiera Milano City 20149 Mi...            6  \n",
       "2     Johann Staud Stra e 32 16 Ottakring 1160 Vienn...            6  \n",
       "3     40 Rue Rene Boulanger 10th arr 75010 Paris France            7  \n",
       "4                   Via Palmanova 153 20132 Milan Italy            7  \n",
       "...                                                 ...          ...  \n",
       "1195  Via Gian Battista Pirelli 20 Central Station 2...          381  \n",
       "1196  117 129 Cromwell Road Kensington and Chelsea L...          382  \n",
       "1197  Rambla Catalunya 7 9 Eixample 08007 Barcelona ...          382  \n",
       "1198  8 Place Marguerite de Navarre 1st arr 75001 Pa...          383  \n",
       "1199  Viale Bianca Maria 4 Milan City Center 20129 M...          383  \n",
       "\n",
       "[1200 rows x 3 columns]"
      ]
     },
     "metadata": {},
     "output_type": "display_data"
    },
    {
     "data": {
      "text/html": [
       "<div>\n",
       "<style scoped>\n",
       "    .dataframe tbody tr th:only-of-type {\n",
       "        vertical-align: middle;\n",
       "    }\n",
       "\n",
       "    .dataframe tbody tr th {\n",
       "        vertical-align: top;\n",
       "    }\n",
       "\n",
       "    .dataframe thead th {\n",
       "        text-align: right;\n",
       "    }\n",
       "</style>\n",
       "<table border=\"1\" class=\"dataframe\">\n",
       "  <thead>\n",
       "    <tr style=\"text-align: right;\">\n",
       "      <th></th>\n",
       "      <th>hotel_name</th>\n",
       "      <th>hotel_address</th>\n",
       "      <th>review_date</th>\n",
       "    </tr>\n",
       "  </thead>\n",
       "  <tbody>\n",
       "    <tr>\n",
       "      <th>0</th>\n",
       "      <td>Britannia International Hotel Canary Wharf</td>\n",
       "      <td>163 Marsh Wall Docklands Tower Hamlets London ...</td>\n",
       "      <td>3587</td>\n",
       "    </tr>\n",
       "    <tr>\n",
       "      <th>1</th>\n",
       "      <td>Strand Palace Hotel</td>\n",
       "      <td>372 Strand Westminster Borough London WC2R 0JJ...</td>\n",
       "      <td>3206</td>\n",
       "    </tr>\n",
       "    <tr>\n",
       "      <th>2</th>\n",
       "      <td>Park Plaza Westminster Bridge London</td>\n",
       "      <td>Westminster Bridge Road Lambeth London SE1 7UT...</td>\n",
       "      <td>3095</td>\n",
       "    </tr>\n",
       "    <tr>\n",
       "      <th>3</th>\n",
       "      <td>Copthorne Tara Hotel London Kensington</td>\n",
       "      <td>Scarsdale Place Kensington Kensington and Chel...</td>\n",
       "      <td>2688</td>\n",
       "    </tr>\n",
       "    <tr>\n",
       "      <th>4</th>\n",
       "      <td>DoubleTree by Hilton Hotel London Tower of London</td>\n",
       "      <td>7 Pepys Street City of London London EC3N 4AF ...</td>\n",
       "      <td>2379</td>\n",
       "    </tr>\n",
       "    <tr>\n",
       "      <th>...</th>\n",
       "      <td>...</td>\n",
       "      <td>...</td>\n",
       "      <td>...</td>\n",
       "    </tr>\n",
       "    <tr>\n",
       "      <th>295</th>\n",
       "      <td>Great St Helen Hotel</td>\n",
       "      <td>36 Great st Helens City of London London EC3A ...</td>\n",
       "      <td>383</td>\n",
       "    </tr>\n",
       "    <tr>\n",
       "      <th>296</th>\n",
       "      <td>Park International Hotel</td>\n",
       "      <td>117 129 Cromwell Road Kensington and Chelsea L...</td>\n",
       "      <td>382</td>\n",
       "    </tr>\n",
       "    <tr>\n",
       "      <th>297</th>\n",
       "      <td>H10 Metropolitan 4 Sup</td>\n",
       "      <td>Rambla Catalunya 7 9 Eixample 08007 Barcelona ...</td>\n",
       "      <td>382</td>\n",
       "    </tr>\n",
       "    <tr>\n",
       "      <th>298</th>\n",
       "      <td>Catalonia Passeig de Gr cia 4 Sup</td>\n",
       "      <td>Gran Via de les Corts Catalanes 644 Eixample 0...</td>\n",
       "      <td>381</td>\n",
       "    </tr>\n",
       "    <tr>\n",
       "      <th>299</th>\n",
       "      <td>Golden Tulip Amsterdam Riverside</td>\n",
       "      <td>Provincialeweg 38 Zuidoost 1108 AB Amsterdam N...</td>\n",
       "      <td>381</td>\n",
       "    </tr>\n",
       "  </tbody>\n",
       "</table>\n",
       "<p>300 rows × 3 columns</p>\n",
       "</div>"
      ],
      "text/plain": [
       "                                            hotel_name  \\\n",
       "0           Britannia International Hotel Canary Wharf   \n",
       "1                                  Strand Palace Hotel   \n",
       "2                 Park Plaza Westminster Bridge London   \n",
       "3               Copthorne Tara Hotel London Kensington   \n",
       "4    DoubleTree by Hilton Hotel London Tower of London   \n",
       "..                                                 ...   \n",
       "295                               Great St Helen Hotel   \n",
       "296                           Park International Hotel   \n",
       "297                             H10 Metropolitan 4 Sup   \n",
       "298                  Catalonia Passeig de Gr cia 4 Sup   \n",
       "299                   Golden Tulip Amsterdam Riverside   \n",
       "\n",
       "                                         hotel_address  review_date  \n",
       "0    163 Marsh Wall Docklands Tower Hamlets London ...         3587  \n",
       "1    372 Strand Westminster Borough London WC2R 0JJ...         3206  \n",
       "2    Westminster Bridge Road Lambeth London SE1 7UT...         3095  \n",
       "3    Scarsdale Place Kensington Kensington and Chel...         2688  \n",
       "4    7 Pepys Street City of London London EC3N 4AF ...         2379  \n",
       "..                                                 ...          ...  \n",
       "295  36 Great st Helens City of London London EC3A ...          383  \n",
       "296  117 129 Cromwell Road Kensington and Chelsea L...          382  \n",
       "297  Rambla Catalunya 7 9 Eixample 08007 Barcelona ...          382  \n",
       "298  Gran Via de les Corts Catalanes 644 Eixample 0...          381  \n",
       "299  Provincialeweg 38 Zuidoost 1108 AB Amsterdam N...          381  \n",
       "\n",
       "[300 rows x 3 columns]"
      ]
     },
     "metadata": {},
     "output_type": "display_data"
    }
   ],
   "source": [
    "display(hotels.groupby(by=['hotel_name','hotel_address'])['review_date'].count().sort_values(ascending=True).reset_index().head(1200))\n",
    "display(hotels.groupby(by=['hotel_name','hotel_address'])['review_date'].count().sort_values(ascending=False).reset_index().head(300))"
   ]
  },
  {
   "cell_type": "markdown",
   "metadata": {},
   "source": [
    "**Note**: \n",
    "- В дальнейшем может потребоваться уменьшить количество уникальных названий отеля, введя категорию other_name для остальных названий. *Например, при сокращении до 300 уникальных имён отелей по количеству отзывов.*\n",
    "- При необходимости, к имени 'Hotel Regina' можно добавить страну расположения отеля.\n",
    "- При генерации признаков из полного адреса можно извлечь город и страну расположения отеля."
   ]
  },
  {
   "cell_type": "markdown",
   "metadata": {},
   "source": [
    "#### **additional_number_of_scoring**"
   ]
  },
  {
   "cell_type": "markdown",
   "metadata": {},
   "source": [
    "Согласно представленному выше описанию получается, что это общее количество оценок без отзывов, которое выставлено отелю. Значит у разных отзывов одного отеля должны быть одинаковые значения. Проверим это."
   ]
  },
  {
   "cell_type": "code",
   "execution_count": 13,
   "metadata": {},
   "outputs": [
    {
     "data": {
      "text/plain": [
       "hotel_name\n",
       "Hotel Regina                                    311\n",
       "11 Cadogan Gardens                                0\n",
       "Mercure Paris Gare Montparnasse                   0\n",
       "Mercure Paris Pigalle Sacre Coeur                 0\n",
       "Mercure Paris Opera Louvre                        0\n",
       "                                               ... \n",
       "Ham Yard Hotel                                    0\n",
       "Hallmark Hotel London Chigwell Prince Regent      0\n",
       "HCC St Moritz                                     0\n",
       "HCC Regente                                       0\n",
       "pentahotel Vienna                                 0\n",
       "Name: additional_number_of_scoring, Length: 1492, dtype: int64"
      ]
     },
     "execution_count": 13,
     "metadata": {},
     "output_type": "execute_result"
    }
   ],
   "source": [
    "grouped_by_name = hotels.groupby(by='hotel_name')\n",
    "scoring_number_difference = grouped_by_name['additional_number_of_scoring'].max() - grouped_by_name['additional_number_of_scoring'].min()\n",
    "scoring_number_difference.sort_values(ascending=False)"
   ]
  },
  {
   "cell_type": "markdown",
   "metadata": {},
   "source": [
    "Видим, что разница в количестве отзывов есть только у отеля Регина. Проверим, что для трёх отелей разных адресов три разные цифры количества оценок, и при этом они не отличаются в рамках одного адреса"
   ]
  },
  {
   "cell_type": "code",
   "execution_count": 14,
   "metadata": {},
   "outputs": [
    {
     "name": "stdout",
     "output_type": "stream",
     "text": [
      "Количество оценок без отзывов для отеля Регина по разным адресам\n"
     ]
    },
    {
     "data": {
      "text/plain": [
       "hotel_address\n",
       "Bergara 2 4 Eixample 08002 Barcelona Spain                    334.0\n",
       "Rooseveltplatz 15 09 Alsergrund 1090 Vienna Austria           165.0\n",
       "Via Cesare Correnti 13 Milan City Center 20123 Milan Italy     23.0\n",
       "Name: additional_number_of_scoring, dtype: float64"
      ]
     },
     "metadata": {},
     "output_type": "display_data"
    },
    {
     "name": "stdout",
     "output_type": "stream",
     "text": [
      "Разница в количестве оценок в рамках одного адреса\n"
     ]
    },
    {
     "data": {
      "text/plain": [
       "hotel_address\n",
       "Bergara 2 4 Eixample 08002 Barcelona Spain                    0\n",
       "Rooseveltplatz 15 09 Alsergrund 1090 Vienna Austria           0\n",
       "Via Cesare Correnti 13 Milan City Center 20123 Milan Italy    0\n",
       "Name: additional_number_of_scoring, dtype: int64"
      ]
     },
     "metadata": {},
     "output_type": "display_data"
    }
   ],
   "source": [
    "regina_grouped_by_name = hotels[hotels['hotel_name'] == 'Hotel Regina'].groupby('hotel_address')\n",
    "\n",
    "regina_median_scoring_number = regina_grouped_by_name['additional_number_of_scoring'].median()\n",
    "print('Количество оценок без отзывов для отеля Регина по разным адресам')\n",
    "display(regina_median_scoring_number.sort_values(ascending=False))\n",
    "\n",
    "regina_scoring_number_difference = regina_grouped_by_name['additional_number_of_scoring'].max() - regina_grouped_by_name['additional_number_of_scoring'].min()\n",
    "print('Разница в количестве оценок в рамках одного адреса')\n",
    "display(regina_scoring_number_difference.sort_values(ascending=False))"
   ]
  },
  {
   "cell_type": "markdown",
   "metadata": {},
   "source": [
    "**Note**: Таким образом, мы убедились в том, что статистика для Отелей Регина разных стран ведётся отдельно."
   ]
  },
  {
   "cell_type": "markdown",
   "metadata": {},
   "source": [
    "#### **review_date**"
   ]
  },
  {
   "cell_type": "markdown",
   "metadata": {},
   "source": [
    "Приведём к формату datetime"
   ]
  },
  {
   "cell_type": "code",
   "execution_count": 15,
   "metadata": {},
   "outputs": [
    {
     "data": {
      "text/plain": [
       "count                           386803\n",
       "mean     2016-08-13 14:41:18.712936704\n",
       "min                2015-08-04 00:00:00\n",
       "25%                2016-02-23 00:00:00\n",
       "50%                2016-08-15 00:00:00\n",
       "75%                2017-02-09 00:00:00\n",
       "max                2017-08-03 00:00:00\n",
       "Name: review_date, dtype: object"
      ]
     },
     "execution_count": 15,
     "metadata": {},
     "output_type": "execute_result"
    }
   ],
   "source": [
    "hotels['review_date'] = pd.to_datetime(hotels['review_date'])\n",
    "hotels['review_date'].describe(datetime_is_numeric=True)"
   ]
  },
  {
   "cell_type": "markdown",
   "metadata": {},
   "source": [
    "Таким образом, перед нами выгрузка отзывов за 2 года с 4 августа 2015 года по 3 августа 2017 года."
   ]
  },
  {
   "cell_type": "markdown",
   "metadata": {},
   "source": [
    "**Note:**\n",
    "- В дальнейшем из даты можно извлечь сезонность"
   ]
  },
  {
   "cell_type": "markdown",
   "metadata": {},
   "source": [
    "#### **average_score**"
   ]
  },
  {
   "cell_type": "markdown",
   "metadata": {},
   "source": [
    "Данный признак представляет собой среднюю оценку отеля за последний год. Проанализируем его"
   ]
  },
  {
   "cell_type": "code",
   "execution_count": 16,
   "metadata": {},
   "outputs": [
    {
     "data": {
      "text/plain": [
       "count    386803.000000\n",
       "mean          8.397231\n",
       "std           0.547881\n",
       "min           5.200000\n",
       "25%           8.100000\n",
       "50%           8.400000\n",
       "75%           8.800000\n",
       "max           9.800000\n",
       "Name: average_score, dtype: float64"
      ]
     },
     "metadata": {},
     "output_type": "display_data"
    },
    {
     "data": {
      "image/png": "[encoded data removed]",
      "text/plain": [
       "<Figure size 640x480 with 2 Axes>"
      ]
     },
     "metadata": {},
     "output_type": "display_data"
    }
   ],
   "source": [
    "average_score_plot = box_hist_plot(hotels, 'average_score', 'Распределение средней оценки', hist_yscale='log')\n",
    "display(hotels['average_score'].describe())"
   ]
  },
  {
   "cell_type": "markdown",
   "metadata": {},
   "source": [
    "Наблюдаем левосторонние гипотетические выбросы, а также отели с очень высокой оценкой"
   ]
  },
  {
   "cell_type": "markdown",
   "metadata": {},
   "source": [
    "**Note**:\n",
    "- Имеет смысл ввести порядковый категориальный признак, чтобы отличать плохие, средние, хорошие и очень хорошие отели"
   ]
  },
  {
   "cell_type": "markdown",
   "metadata": {},
   "source": [
    "#### **reviewer_nationality**"
   ]
  },
  {
   "cell_type": "code",
   "execution_count": 17,
   "metadata": {},
   "outputs": [
    {
     "name": "stdout",
     "output_type": "stream",
     "text": [
      "Представленные в датасете национальности:\n"
     ]
    },
    {
     "data": {
      "text/plain": [
       " United Kingdom               184033\n",
       " United States of America      26541\n",
       " Australia                     16239\n",
       " Ireland                       11126\n",
       " United Arab Emirates           7617\n",
       "                               ...  \n",
       " Cook Islands                      1\n",
       " Guinea                            1\n",
       " Comoros                           1\n",
       " Anguilla                          1\n",
       " Grenada                           1\n",
       "Name: reviewer_nationality, Length: 225, dtype: int64"
      ]
     },
     "metadata": {},
     "output_type": "display_data"
    }
   ],
   "source": [
    "print('Представленные в датасете национальности:')\n",
    "display(hotels['reviewer_nationality'].value_counts())"
   ]
  },
  {
   "cell_type": "markdown",
   "metadata": {},
   "source": [
    "**Note**:\n",
    "- Возможно, имеет смысл сопоставить национальность рецензента и страну, где находится отель. И выделить признак международного путешествия рецензента. \n",
    "- Можно проверить гипотезу влияния типа поездки - международная или национальная на оставляемый рейтинг.\n",
    "- Также можно уменьшить количество рассматриваемых национальностей, введя категорию 'other'"
   ]
  },
  {
   "cell_type": "markdown",
   "metadata": {},
   "source": [
    "#### **tags**"
   ]
  },
  {
   "cell_type": "markdown",
   "metadata": {},
   "source": [
    "Извлечём теги и сохраним их в множество, тем самым получим уникальные теги."
   ]
  },
  {
   "cell_type": "code",
   "execution_count": 18,
   "metadata": {},
   "outputs": [
    {
     "name": "stdout",
     "output_type": "stream",
     "text": [
      "Количество уникальных тегов: 2368\n"
     ]
    }
   ],
   "source": [
    "# Извлечём сырые теги из соответствующей колонки \n",
    "# и сохраним в виде списка\n",
    "hotels['splitted_tags'] = hotels['tags'].str.findall(r\"'[\\w\\s]+'\")\n",
    "\n",
    "# Преобразуем списки, удалив одинарные кавычки и внешние пробелы\n",
    "hotels['splitted_tags'] = hotels['splitted_tags'].\\\n",
    "    apply(lambda x: [y[1:-1].strip() for y in x])\n",
    "\n",
    "# Создадим множество уникальных тегов\n",
    "unique_tags = set()\n",
    "\n",
    "# Функия извлечения тегов в множество\n",
    "def get_tags(tags):\n",
    "    unique_tags.update(tags)\n",
    "    return True\n",
    "\n",
    "hotels['splitted_tags'].apply(get_tags)\n",
    "print('Количество уникальных тегов:', len(unique_tags))"
   ]
  },
  {
   "cell_type": "markdown",
   "metadata": {},
   "source": [
    "Оценим популярность тегов"
   ]
  },
  {
   "cell_type": "code",
   "execution_count": 19,
   "metadata": {},
   "outputs": [
    {
     "data": {
      "text/plain": [
       "Leisure trip                      313593\n",
       "Submitted from a mobile device    230778\n",
       "Couple                            189212\n",
       "Stayed 1 night                    145373\n",
       "Stayed 2 nights                   100263\n",
       "Solo traveler                      81235\n",
       "Stayed 3 nights                    72000\n",
       "Business trip                      61989\n",
       "Group                              49088\n",
       "Family with young children         45836\n",
       "Stayed 4 nights                    35748\n",
       "Double Room                        26386\n",
       "Standard Double Room               24151\n",
       "Superior Double Room               23550\n",
       "Family with older children         19802\n",
       "Deluxe Double Room                 18623\n",
       "Double or Twin Room                16824\n",
       "Stayed 5 nights                    15611\n",
       "Standard Double or Twin Room       13062\n",
       "Classic Double Room                12716\n",
       "Superior Double or Twin Room       10238\n",
       "2 rooms                             9287\n",
       "Stayed 6 nights                     7399\n",
       "Standard Twin Room                  7325\n",
       "Single Room                         7227\n",
       "Twin Room                           6279\n",
       "Stayed 7 nights                     5549\n",
       "Executive Double Room               4763\n",
       "dtype: int64"
      ]
     },
     "execution_count": 19,
     "metadata": {},
     "output_type": "execute_result"
    }
   ],
   "source": [
    "from collections import Counter\n",
    "\n",
    "# Создадим пустой список, который будем заполнять тегами \n",
    "# из датафрейма \n",
    "tags_list = []\n",
    "def extend_tags(tags):\n",
    "    tags_list.extend(tags)\n",
    "hotels['splitted_tags'].apply(extend_tags)\n",
    "\n",
    "# Посчитаем количество применений тегов\n",
    "# и представим в виде Series\n",
    "cnt = Counter(tags_list)\n",
    "tag_cnt = pd.Series(dict(cnt))\n",
    "\n",
    "# Выведем отсортированный Series\n",
    "tag_cnt.sort_values(ascending=False).head(28)"
   ]
  },
  {
   "cell_type": "markdown",
   "metadata": {},
   "source": [
    "**Note**:\n",
    "- В качестве отдельного признака можно создать количество присвоенных тегов\n",
    "- Имеет смысл выделить конкретные популярные теги\n",
    "- Из тегов можно выделить такую полезную информацию, как:\n",
    "    - отправлен ли отзыв с мобильного устройства;\n",
    "    - количество ночей, проведённых в гостинице;\n",
    "    - тип номера;\n",
    "    - тип путешествия;\n",
    "    - состав посетителей;"
   ]
  },
  {
   "cell_type": "markdown",
   "metadata": {},
   "source": [
    "#### **negative_review** и **positive_review**"
   ]
  },
  {
   "cell_type": "code",
   "execution_count": 20,
   "metadata": {},
   "outputs": [
    {
     "name": "stdout",
     "output_type": "stream",
     "text": [
      "Частые негативные отзывы\n"
     ]
    },
    {
     "data": {
      "text/plain": [
       "No Negative            95907\n",
       " Nothing               10737\n",
       " Nothing                3154\n",
       " nothing                1660\n",
       " N A                     802\n",
       " None                    737\n",
       "                         606\n",
       " N a                     384\n",
       " Breakfast               296\n",
       " Small room              283\n",
       " Location                281\n",
       " All good                251\n",
       " Everything              251\n",
       " Nothing really          240\n",
       " none                    223\n",
       " nothing                 219\n",
       " No complaints           201\n",
       " Nil                     197\n",
       " Nothing really          195\n",
       " Price                   192\n",
       " n a                     176\n",
       " Nothing to dislike      159\n",
       " Nothing at all          154\n",
       " Nothing at all          139\n",
       " Small rooms             135\n",
       " None                    134\n",
       " No complaints           129\n",
       " All good                116\n",
       " NA                      109\n",
       " Expensive               105\n",
       "Name: negative_review, dtype: int64"
      ]
     },
     "execution_count": 20,
     "metadata": {},
     "output_type": "execute_result"
    }
   ],
   "source": [
    "print('Частые негативные отзывы')\n",
    "hotels['negative_review'].value_counts().sort_values(ascending=False).head(30)"
   ]
  },
  {
   "cell_type": "code",
   "execution_count": 21,
   "metadata": {},
   "outputs": [
    {
     "name": "stdout",
     "output_type": "stream",
     "text": [
      "Частые позитивные отзывы\n"
     ]
    },
    {
     "data": {
      "text/plain": [
       "No Positive            26885\n",
       " Location               6833\n",
       " Everything             1697\n",
       " location               1251\n",
       " Nothing                 931\n",
       " The location            830\n",
       " Great location          809\n",
       " Good location           690\n",
       " Location                663\n",
       " Breakfast               455\n",
       " Everything              449\n",
       " Friendly staff          385\n",
       " Staff                   347\n",
       " Excellent location      296\n",
       " Great location          280\n",
       " Location and staff      256\n",
       " everything              233\n",
       " Good location           214\n",
       " Nothing                 170\n",
       " nothing                 159\n",
       " Comfy bed               158\n",
       " The location            152\n",
       " good location           151\n",
       " The staff               151\n",
       " the location            141\n",
       " Location was good       140\n",
       " Location was great      137\n",
       " Location staff          136\n",
       " Good breakfast          130\n",
       "                         128\n",
       "Name: positive_review, dtype: int64"
      ]
     },
     "execution_count": 21,
     "metadata": {},
     "output_type": "execute_result"
    }
   ],
   "source": [
    "print('Частые позитивные отзывы')\n",
    "hotels['positive_review'].value_counts().sort_values(ascending=False).head(30)"
   ]
  },
  {
   "cell_type": "markdown",
   "metadata": {},
   "source": [
    "**Note**:\n",
    "- Мы видим, что в отзывах большое количество слов, типа \"No Positive/Negative\", \"Nothing\", \"Everything\", \"NA\". Их можно представить в виде булевых признаков, типа \"no_positive\", \"no_negative\", \"abs_positive\", \"abs_negative\"\n",
    "- Из отзывов можно извлечь, чем клиент был доволен/недоволен, например: \"location\", \"staff\" и проверить гипотезу влияния этих категорий на оценку"
   ]
  },
  {
   "cell_type": "markdown",
   "metadata": {},
   "source": [
    "#### **review_total_negative_word_counts** и **review_total_positive_word_counts**"
   ]
  },
  {
   "cell_type": "code",
   "execution_count": 37,
   "metadata": {},
   "outputs": [
    {
     "data": {
      "text/plain": [
       "count    386803.000000\n",
       "mean         18.538988\n",
       "std          29.703369\n",
       "min           0.000000\n",
       "25%           2.000000\n",
       "50%           9.000000\n",
       "75%          23.000000\n",
       "max         408.000000\n",
       "Name: review_total_negative_word_counts, dtype: float64"
      ]
     },
     "metadata": {},
     "output_type": "display_data"
    },
    {
     "data": {
      "image/png": "[encoded data removed]",
      "text/plain": [
       "<Figure size 640x480 with 2 Axes>"
      ]
     },
     "execution_count": 37,
     "metadata": {},
     "output_type": "execute_result"
    }
   ],
   "source": [
    "display(hotels['review_total_negative_word_counts'].describe())\n",
    "box_hist_plot(hotels, 'review_total_negative_word_counts', 'Распределение количества слов в отрицательном отзыве')"
   ]
  },
  {
   "cell_type": "code",
   "execution_count": 38,
   "metadata": {},
   "outputs": [
    {
     "data": {
      "text/plain": [
       "count    386803.000000\n",
       "mean         17.776985\n",
       "std          21.726141\n",
       "min           0.000000\n",
       "25%           5.000000\n",
       "50%          11.000000\n",
       "75%          22.000000\n",
       "max         395.000000\n",
       "Name: review_total_positive_word_counts, dtype: float64"
      ]
     },
     "metadata": {},
     "output_type": "display_data"
    },
    {
     "data": {
      "image/png": "[encoded data removed]",
      "text/plain": [
       "<Figure size 640x480 with 2 Axes>"
      ]
     },
     "execution_count": 38,
     "metadata": {},
     "output_type": "execute_result"
    }
   ],
   "source": [
    "display(hotels['review_total_positive_word_counts'].describe())\n",
    "box_hist_plot(hotels, 'review_total_positive_word_counts', 'Распределение количества слов в положительном отзыве')"
   ]
  },
  {
   "cell_type": "markdown",
   "metadata": {},
   "source": [
    "**Note:**\n",
    "- Позитивные и негативные отзывы могут содержать до нескольких сот слов. При этом медианное количество слов порядка 10.\n",
    "- Необходимо проверить, влияет ли количество слов больше 20 на оценку. "
   ]
  },
  {
   "cell_type": "markdown",
   "metadata": {},
   "source": [
    "#### **reviewer_score**\n",
    "Целевая переменная"
   ]
  },
  {
   "cell_type": "code",
   "execution_count": 40,
   "metadata": {},
   "outputs": [
    {
     "data": {
      "text/plain": [
       "count    386803.000000\n",
       "mean          8.396906\n",
       "std           1.636090\n",
       "min           2.500000\n",
       "25%           7.500000\n",
       "50%           8.800000\n",
       "75%           9.600000\n",
       "max          10.000000\n",
       "Name: reviewer_score, dtype: float64"
      ]
     },
     "metadata": {},
     "output_type": "display_data"
    },
    {
     "data": {
      "image/png": "[encoded data removed]",
      "text/plain": [
       "<Figure size 640x480 with 2 Axes>"
      ]
     },
     "execution_count": 40,
     "metadata": {},
     "output_type": "execute_result"
    }
   ],
   "source": [
    "display(hotels['reviewer_score'].describe())\n",
    "box_hist_plot(hotels, 'reviewer_score', 'Распределение оценки рецензентов')"
   ]
  },
  {
   "cell_type": "markdown",
   "metadata": {},
   "source": [
    "Рассмотрим более подробно оценки ниже 3"
   ]
  },
  {
   "cell_type": "code",
   "execution_count": 41,
   "metadata": {},
   "outputs": [
    {
     "data": {
      "text/html": [
       "<div>\n",
       "<style scoped>\n",
       "    .dataframe tbody tr th:only-of-type {\n",
       "        vertical-align: middle;\n",
       "    }\n",
       "\n",
       "    .dataframe tbody tr th {\n",
       "        vertical-align: top;\n",
       "    }\n",
       "\n",
       "    .dataframe thead th {\n",
       "        text-align: right;\n",
       "    }\n",
       "</style>\n",
       "<table border=\"1\" class=\"dataframe\">\n",
       "  <thead>\n",
       "    <tr style=\"text-align: right;\">\n",
       "      <th></th>\n",
       "      <th>hotel_address</th>\n",
       "      <th>additional_number_of_scoring</th>\n",
       "      <th>review_date</th>\n",
       "      <th>average_score</th>\n",
       "      <th>hotel_name</th>\n",
       "      <th>reviewer_nationality</th>\n",
       "      <th>negative_review</th>\n",
       "      <th>review_total_negative_word_counts</th>\n",
       "      <th>total_number_of_reviews</th>\n",
       "      <th>positive_review</th>\n",
       "      <th>review_total_positive_word_counts</th>\n",
       "      <th>total_number_of_reviews_reviewer_has_given</th>\n",
       "      <th>reviewer_score</th>\n",
       "      <th>tags</th>\n",
       "      <th>days_since_review</th>\n",
       "      <th>lat</th>\n",
       "      <th>lng</th>\n",
       "      <th>splitted_tags</th>\n",
       "    </tr>\n",
       "  </thead>\n",
       "  <tbody>\n",
       "    <tr>\n",
       "      <th>115</th>\n",
       "      <td>One Eastern Gateway Royal Victoria Dock Newham...</td>\n",
       "      <td>694</td>\n",
       "      <td>2016-08-16</td>\n",
       "      <td>8.7</td>\n",
       "      <td>Aloft London Excel</td>\n",
       "      <td>United Kingdom</td>\n",
       "      <td>Room dark bed comfy but not made we ll Air co...</td>\n",
       "      <td>20</td>\n",
       "      <td>2332</td>\n",
       "      <td>Staff are very robotic no customer service tr...</td>\n",
       "      <td>9</td>\n",
       "      <td>2</td>\n",
       "      <td>2.9</td>\n",
       "      <td>[' Family with young children ', ' Double or T...</td>\n",
       "      <td>352 day</td>\n",
       "      <td>51.508372</td>\n",
       "      <td>0.035577</td>\n",
       "      <td>[Family with young children, Double or Twin Ro...</td>\n",
       "    </tr>\n",
       "    <tr>\n",
       "      <th>122</th>\n",
       "      <td>Savoyenstra e 2 16 Ottakring 1160 Vienna Austria</td>\n",
       "      <td>86</td>\n",
       "      <td>2016-08-26</td>\n",
       "      <td>8.3</td>\n",
       "      <td>Austria Trend Hotel Schloss Wilhelminenberg Wien</td>\n",
       "      <td>United States of America</td>\n",
       "      <td>Not much</td>\n",
       "      <td>3</td>\n",
       "      <td>1558</td>\n",
       "      <td>Bugs in our room Bad Wifi</td>\n",
       "      <td>7</td>\n",
       "      <td>3</td>\n",
       "      <td>2.5</td>\n",
       "      <td>[' Leisure trip ', ' Couple ', ' Classic Room ...</td>\n",
       "      <td>342 day</td>\n",
       "      <td>NaN</td>\n",
       "      <td>NaN</td>\n",
       "      <td>[Leisure trip, Couple, Classic Room, Stayed 2 ...</td>\n",
       "    </tr>\n",
       "    <tr>\n",
       "      <th>201</th>\n",
       "      <td>Piazza Duca D Aosta 4 6 Central Station 20124 ...</td>\n",
       "      <td>639</td>\n",
       "      <td>2016-10-30</td>\n",
       "      <td>8.8</td>\n",
       "      <td>Glam Milano</td>\n",
       "      <td>Saudi Arabia</td>\n",
       "      <td>It would be easier to answer what did you lik...</td>\n",
       "      <td>15</td>\n",
       "      <td>7371</td>\n",
       "      <td>No Positive</td>\n",
       "      <td>0</td>\n",
       "      <td>5</td>\n",
       "      <td>2.9</td>\n",
       "      <td>[' Leisure trip ', ' Family with young childre...</td>\n",
       "      <td>277 day</td>\n",
       "      <td>45.483850</td>\n",
       "      <td>9.203407</td>\n",
       "      <td>[Leisure trip, Family with young children, 2 r...</td>\n",
       "    </tr>\n",
       "    <tr>\n",
       "      <th>267</th>\n",
       "      <td>49 53 New Road Tower Hamlets London E1 1HH Uni...</td>\n",
       "      <td>187</td>\n",
       "      <td>2015-12-06</td>\n",
       "      <td>7.6</td>\n",
       "      <td>The Whitechapel</td>\n",
       "      <td>United Kingdom</td>\n",
       "      <td>Everything It s a dry hotel If you are a devo...</td>\n",
       "      <td>63</td>\n",
       "      <td>830</td>\n",
       "      <td>Nothing Awful place It s aimed at Muslim trav...</td>\n",
       "      <td>44</td>\n",
       "      <td>8</td>\n",
       "      <td>2.5</td>\n",
       "      <td>[' Business trip ', ' Solo traveler ', ' Execu...</td>\n",
       "      <td>606 day</td>\n",
       "      <td>51.516129</td>\n",
       "      <td>-0.062446</td>\n",
       "      <td>[Business trip, Solo traveler, Executive King ...</td>\n",
       "    </tr>\n",
       "    <tr>\n",
       "      <th>504</th>\n",
       "      <td>38 Rue Du Faubourg Saint Honore 8th arr 75008 ...</td>\n",
       "      <td>118</td>\n",
       "      <td>2017-04-08</td>\n",
       "      <td>7.2</td>\n",
       "      <td>H tel De Castiglione</td>\n",
       "      <td>France</td>\n",
       "      <td>Disaster Don t ruin your day with this hotel ...</td>\n",
       "      <td>97</td>\n",
       "      <td>1168</td>\n",
       "      <td>X</td>\n",
       "      <td>2</td>\n",
       "      <td>4</td>\n",
       "      <td>2.9</td>\n",
       "      <td>[' Business trip ', ' Solo traveler ', ' Super...</td>\n",
       "      <td>117 day</td>\n",
       "      <td>48.869176</td>\n",
       "      <td>2.320581</td>\n",
       "      <td>[Business trip, Solo traveler, Superior Double...</td>\n",
       "    </tr>\n",
       "    <tr>\n",
       "      <th>...</th>\n",
       "      <td>...</td>\n",
       "      <td>...</td>\n",
       "      <td>...</td>\n",
       "      <td>...</td>\n",
       "      <td>...</td>\n",
       "      <td>...</td>\n",
       "      <td>...</td>\n",
       "      <td>...</td>\n",
       "      <td>...</td>\n",
       "      <td>...</td>\n",
       "      <td>...</td>\n",
       "      <td>...</td>\n",
       "      <td>...</td>\n",
       "      <td>...</td>\n",
       "      <td>...</td>\n",
       "      <td>...</td>\n",
       "      <td>...</td>\n",
       "      <td>...</td>\n",
       "    </tr>\n",
       "    <tr>\n",
       "      <th>386148</th>\n",
       "      <td>Via Giovanni Nicotera 9 Niguarda 20161 Milan I...</td>\n",
       "      <td>102</td>\n",
       "      <td>2016-03-16</td>\n",
       "      <td>8.5</td>\n",
       "      <td>Acca Palace</td>\n",
       "      <td>Singapore</td>\n",
       "      <td>Cappucino for breakfast was the worst i have ...</td>\n",
       "      <td>190</td>\n",
       "      <td>1886</td>\n",
       "      <td>Good spread for breakfast Big room</td>\n",
       "      <td>8</td>\n",
       "      <td>3</td>\n",
       "      <td>2.5</td>\n",
       "      <td>[' Business trip ', ' Couple ', ' Double or Tw...</td>\n",
       "      <td>505 day</td>\n",
       "      <td>45.509997</td>\n",
       "      <td>9.173994</td>\n",
       "      <td>[Business trip, Couple, Double or Twin Room, S...</td>\n",
       "    </tr>\n",
       "    <tr>\n",
       "      <th>386195</th>\n",
       "      <td>2 8 Hanger Lane Ealing Common London W5 3HN Un...</td>\n",
       "      <td>434</td>\n",
       "      <td>2017-07-05</td>\n",
       "      <td>8.4</td>\n",
       "      <td>DoubleTree by Hilton London Ealing</td>\n",
       "      <td>United Kingdom</td>\n",
       "      <td>the manager was one of the rudest people I ha...</td>\n",
       "      <td>15</td>\n",
       "      <td>1494</td>\n",
       "      <td>nothing</td>\n",
       "      <td>2</td>\n",
       "      <td>1</td>\n",
       "      <td>2.5</td>\n",
       "      <td>[' Leisure trip ', ' Group ', ' Queen Room wit...</td>\n",
       "      <td>29 days</td>\n",
       "      <td>51.511521</td>\n",
       "      <td>-0.290706</td>\n",
       "      <td>[Leisure trip, Group, Queen Room with Mobility...</td>\n",
       "    </tr>\n",
       "    <tr>\n",
       "      <th>386224</th>\n",
       "      <td>Piazza Lima 2 Central Station 20124 Milan Italy</td>\n",
       "      <td>298</td>\n",
       "      <td>2015-08-17</td>\n",
       "      <td>8.5</td>\n",
       "      <td>Best Western Plus Hotel Galles</td>\n",
       "      <td>United States of America</td>\n",
       "      <td>Due to uncontrollable flights changes in our ...</td>\n",
       "      <td>108</td>\n",
       "      <td>3550</td>\n",
       "      <td>No Positive</td>\n",
       "      <td>0</td>\n",
       "      <td>2</td>\n",
       "      <td>2.5</td>\n",
       "      <td>[' Leisure trip ', ' Family with young childre...</td>\n",
       "      <td>717 day</td>\n",
       "      <td>45.480585</td>\n",
       "      <td>9.211733</td>\n",
       "      <td>[Leisure trip, Family with young children, Sta...</td>\n",
       "    </tr>\n",
       "    <tr>\n",
       "      <th>386236</th>\n",
       "      <td>265 Rotherhithe Street Southwark London SE16 5...</td>\n",
       "      <td>995</td>\n",
       "      <td>2016-11-11</td>\n",
       "      <td>8.1</td>\n",
       "      <td>DoubleTree by Hilton London Docklands Riverside</td>\n",
       "      <td>United Kingdom</td>\n",
       "      <td>Be careful Deposits 50 nonrefundable They wil...</td>\n",
       "      <td>21</td>\n",
       "      <td>3826</td>\n",
       "      <td>No Positive</td>\n",
       "      <td>0</td>\n",
       "      <td>2</td>\n",
       "      <td>2.5</td>\n",
       "      <td>[' Business trip ', ' Couple ', ' Queen Guest ...</td>\n",
       "      <td>265 day</td>\n",
       "      <td>51.504348</td>\n",
       "      <td>-0.033444</td>\n",
       "      <td>[Business trip, Couple, Queen Guest Room, Stay...</td>\n",
       "    </tr>\n",
       "    <tr>\n",
       "      <th>386311</th>\n",
       "      <td>163 Marsh Wall Docklands Tower Hamlets London ...</td>\n",
       "      <td>2682</td>\n",
       "      <td>2015-10-29</td>\n",
       "      <td>7.1</td>\n",
       "      <td>Britannia International Hotel Canary Wharf</td>\n",
       "      <td>France</td>\n",
       "      <td>No Negative</td>\n",
       "      <td>0</td>\n",
       "      <td>9086</td>\n",
       "      <td>Absolutely nothing The staff was unfriendly I...</td>\n",
       "      <td>65</td>\n",
       "      <td>3</td>\n",
       "      <td>2.5</td>\n",
       "      <td>[' Business trip ', ' Solo traveler ', ' Stand...</td>\n",
       "      <td>644 day</td>\n",
       "      <td>51.501910</td>\n",
       "      <td>-0.023221</td>\n",
       "      <td>[Business trip, Solo traveler, Standard Single...</td>\n",
       "    </tr>\n",
       "  </tbody>\n",
       "</table>\n",
       "<p>2843 rows × 18 columns</p>\n",
       "</div>"
      ],
      "text/plain": [
       "                                            hotel_address  \\\n",
       "115     One Eastern Gateway Royal Victoria Dock Newham...   \n",
       "122      Savoyenstra e 2 16 Ottakring 1160 Vienna Austria   \n",
       "201     Piazza Duca D Aosta 4 6 Central Station 20124 ...   \n",
       "267     49 53 New Road Tower Hamlets London E1 1HH Uni...   \n",
       "504     38 Rue Du Faubourg Saint Honore 8th arr 75008 ...   \n",
       "...                                                   ...   \n",
       "386148  Via Giovanni Nicotera 9 Niguarda 20161 Milan I...   \n",
       "386195  2 8 Hanger Lane Ealing Common London W5 3HN Un...   \n",
       "386224    Piazza Lima 2 Central Station 20124 Milan Italy   \n",
       "386236  265 Rotherhithe Street Southwark London SE16 5...   \n",
       "386311  163 Marsh Wall Docklands Tower Hamlets London ...   \n",
       "\n",
       "        additional_number_of_scoring review_date  average_score  \\\n",
       "115                              694  2016-08-16            8.7   \n",
       "122                               86  2016-08-26            8.3   \n",
       "201                              639  2016-10-30            8.8   \n",
       "267                              187  2015-12-06            7.6   \n",
       "504                              118  2017-04-08            7.2   \n",
       "...                              ...         ...            ...   \n",
       "386148                           102  2016-03-16            8.5   \n",
       "386195                           434  2017-07-05            8.4   \n",
       "386224                           298  2015-08-17            8.5   \n",
       "386236                           995  2016-11-11            8.1   \n",
       "386311                          2682  2015-10-29            7.1   \n",
       "\n",
       "                                              hotel_name  \\\n",
       "115                                   Aloft London Excel   \n",
       "122     Austria Trend Hotel Schloss Wilhelminenberg Wien   \n",
       "201                                          Glam Milano   \n",
       "267                                      The Whitechapel   \n",
       "504                                 H tel De Castiglione   \n",
       "...                                                  ...   \n",
       "386148                                       Acca Palace   \n",
       "386195                DoubleTree by Hilton London Ealing   \n",
       "386224                    Best Western Plus Hotel Galles   \n",
       "386236   DoubleTree by Hilton London Docklands Riverside   \n",
       "386311        Britannia International Hotel Canary Wharf   \n",
       "\n",
       "              reviewer_nationality  \\\n",
       "115                United Kingdom    \n",
       "122      United States of America    \n",
       "201                  Saudi Arabia    \n",
       "267                United Kingdom    \n",
       "504                        France    \n",
       "...                            ...   \n",
       "386148                  Singapore    \n",
       "386195             United Kingdom    \n",
       "386224   United States of America    \n",
       "386236             United Kingdom    \n",
       "386311                     France    \n",
       "\n",
       "                                          negative_review  \\\n",
       "115      Room dark bed comfy but not made we ll Air co...   \n",
       "122                                              Not much   \n",
       "201      It would be easier to answer what did you lik...   \n",
       "267      Everything It s a dry hotel If you are a devo...   \n",
       "504      Disaster Don t ruin your day with this hotel ...   \n",
       "...                                                   ...   \n",
       "386148   Cappucino for breakfast was the worst i have ...   \n",
       "386195   the manager was one of the rudest people I ha...   \n",
       "386224   Due to uncontrollable flights changes in our ...   \n",
       "386236   Be careful Deposits 50 nonrefundable They wil...   \n",
       "386311                                        No Negative   \n",
       "\n",
       "        review_total_negative_word_counts  total_number_of_reviews  \\\n",
       "115                                    20                     2332   \n",
       "122                                     3                     1558   \n",
       "201                                    15                     7371   \n",
       "267                                    63                      830   \n",
       "504                                    97                     1168   \n",
       "...                                   ...                      ...   \n",
       "386148                                190                     1886   \n",
       "386195                                 15                     1494   \n",
       "386224                                108                     3550   \n",
       "386236                                 21                     3826   \n",
       "386311                                  0                     9086   \n",
       "\n",
       "                                          positive_review  \\\n",
       "115      Staff are very robotic no customer service tr...   \n",
       "122                             Bugs in our room Bad Wifi   \n",
       "201                                           No Positive   \n",
       "267      Nothing Awful place It s aimed at Muslim trav...   \n",
       "504                                                     X   \n",
       "...                                                   ...   \n",
       "386148                Good spread for breakfast Big room    \n",
       "386195                                            nothing   \n",
       "386224                                        No Positive   \n",
       "386236                                        No Positive   \n",
       "386311   Absolutely nothing The staff was unfriendly I...   \n",
       "\n",
       "        review_total_positive_word_counts  \\\n",
       "115                                     9   \n",
       "122                                     7   \n",
       "201                                     0   \n",
       "267                                    44   \n",
       "504                                     2   \n",
       "...                                   ...   \n",
       "386148                                  8   \n",
       "386195                                  2   \n",
       "386224                                  0   \n",
       "386236                                  0   \n",
       "386311                                 65   \n",
       "\n",
       "        total_number_of_reviews_reviewer_has_given  reviewer_score  \\\n",
       "115                                              2             2.9   \n",
       "122                                              3             2.5   \n",
       "201                                              5             2.9   \n",
       "267                                              8             2.5   \n",
       "504                                              4             2.9   \n",
       "...                                            ...             ...   \n",
       "386148                                           3             2.5   \n",
       "386195                                           1             2.5   \n",
       "386224                                           2             2.5   \n",
       "386236                                           2             2.5   \n",
       "386311                                           3             2.5   \n",
       "\n",
       "                                                     tags days_since_review  \\\n",
       "115     [' Family with young children ', ' Double or T...           352 day   \n",
       "122     [' Leisure trip ', ' Couple ', ' Classic Room ...           342 day   \n",
       "201     [' Leisure trip ', ' Family with young childre...           277 day   \n",
       "267     [' Business trip ', ' Solo traveler ', ' Execu...           606 day   \n",
       "504     [' Business trip ', ' Solo traveler ', ' Super...           117 day   \n",
       "...                                                   ...               ...   \n",
       "386148  [' Business trip ', ' Couple ', ' Double or Tw...           505 day   \n",
       "386195  [' Leisure trip ', ' Group ', ' Queen Room wit...           29 days   \n",
       "386224  [' Leisure trip ', ' Family with young childre...           717 day   \n",
       "386236  [' Business trip ', ' Couple ', ' Queen Guest ...           265 day   \n",
       "386311  [' Business trip ', ' Solo traveler ', ' Stand...           644 day   \n",
       "\n",
       "              lat       lng                                      splitted_tags  \n",
       "115     51.508372  0.035577  [Family with young children, Double or Twin Ro...  \n",
       "122           NaN       NaN  [Leisure trip, Couple, Classic Room, Stayed 2 ...  \n",
       "201     45.483850  9.203407  [Leisure trip, Family with young children, 2 r...  \n",
       "267     51.516129 -0.062446  [Business trip, Solo traveler, Executive King ...  \n",
       "504     48.869176  2.320581  [Business trip, Solo traveler, Superior Double...  \n",
       "...           ...       ...                                                ...  \n",
       "386148  45.509997  9.173994  [Business trip, Couple, Double or Twin Room, S...  \n",
       "386195  51.511521 -0.290706  [Leisure trip, Group, Queen Room with Mobility...  \n",
       "386224  45.480585  9.211733  [Leisure trip, Family with young children, Sta...  \n",
       "386236  51.504348 -0.033444  [Business trip, Couple, Queen Guest Room, Stay...  \n",
       "386311  51.501910 -0.023221  [Business trip, Solo traveler, Standard Single...  \n",
       "\n",
       "[2843 rows x 18 columns]"
      ]
     },
     "execution_count": 41,
     "metadata": {},
     "output_type": "execute_result"
    }
   ],
   "source": [
    "hotels[hotels['reviewer_score'] < 3.0]"
   ]
  },
  {
   "cell_type": "markdown",
   "metadata": {},
   "source": [
    "#### **column**"
   ]
  },
  {
   "cell_type": "code",
   "execution_count": null,
   "metadata": {},
   "outputs": [],
   "source": []
  },
  {
   "cell_type": "markdown",
   "metadata": {},
   "source": [
    "## 3. Подготовка данных"
   ]
  },
  {
   "cell_type": "markdown",
   "metadata": {},
   "source": [
    "### 3.1 Очистка данных\n",
    "Проводится: \n",
    "- удаление/разметка дубликатов;\n",
    "- заполнение пропусков (при необходимости);\n",
    "- удаление/разметка выбросов и аномалий"
   ]
  },
  {
   "cell_type": "code",
   "execution_count": null,
   "metadata": {},
   "outputs": [],
   "source": []
  },
  {
   "cell_type": "markdown",
   "metadata": {},
   "source": [
    "### 3.2 Разведывательный анализ данных (EDA)\n",
    "\n",
    "Как правило, **включает в себя**:\n",
    "- Проектирование признаков (Feature Engineering);\n",
    "- Кодирование признаков (Ordered-, OneHot-, Binary- encoding);\n",
    "- Проверка статистических гипотез;\n",
    "- Отбор признаков (Feature Selection)"
   ]
  },
  {
   "cell_type": "markdown",
   "metadata": {},
   "source": [
    "**Решение-заглушка:**"
   ]
  },
  {
   "cell_type": "code",
   "execution_count": 6,
   "metadata": {},
   "outputs": [],
   "source": [
    "# убираем признаки, которые еще не успели обработать, \n",
    "# модель на признаках с dtypes \"object\" обучаться не будет, просто выберем их и удалим\n",
    "object_columns = [s for s in hotels.columns if hotels[s].dtypes == 'object']\n",
    "hotels.drop(object_columns, axis = 1, inplace=True)\n",
    "\n",
    "# заполняем пропуски самым простым способом\n",
    "hotels = hotels.fillna(0)"
   ]
  },
  {
   "cell_type": "markdown",
   "metadata": {},
   "source": [
    "## 4. ML-Моделирование"
   ]
  },
  {
   "cell_type": "markdown",
   "metadata": {},
   "source": [
    "**ОСНОВНЫЕ ЭТАПЫ:**\n",
    "1. **Разделение набора данных:**\n",
    "    - \"по столбцам\":\n",
    "        - Признаки для обучения модели - **X**\n",
    "        - Целевая переменная, которую будем предсказывать - **y**\n",
    "    - \"по строкам\":\n",
    "        - Тренировочный набор (**train**), для обучения модели\n",
    "        - Тестовый набор (**test**), для оценки точности модели\n",
    "2. **Создание; обучение модели и предсказание значений**\n",
    "3. **Оценка качества модели**\n",
    "    - с помощью метрик проверяется точность прогнозов, сделанных моделью."
   ]
  },
  {
   "cell_type": "markdown",
   "metadata": {},
   "source": [
    "### 4.1. Разделение набора данных"
   ]
  },
  {
   "cell_type": "code",
   "execution_count": 7,
   "metadata": {},
   "outputs": [],
   "source": [
    "# Разбиваем датафрейм на части, необходимые для обучения и тестирования модели  \n",
    "# Х — данные с информацией об отелях, у — целевая переменная (рейтинги отелей)  \n",
    "X = hotels.drop([TARGET_NAME], axis=1)\n",
    "y = hotels[TARGET_NAME]\n",
    "\n",
    "# Наборы данных с меткой \"train\" будут использоваться для обучения модели, \"test\" — для тестирования.\n",
    "# Для тестирования мы будем использовать 25 % от исходного датасета.\n",
    "X_train, X_test, y_train, y_test = train_test_split(X, y, test_size=TEST_SIZE, random_state=RANDOM_STATE)"
   ]
  },
  {
   "cell_type": "markdown",
   "metadata": {},
   "source": [
    "### 4.2. Создание и обучение модели"
   ]
  },
  {
   "cell_type": "markdown",
   "metadata": {},
   "source": [
    "Примечание: \n",
    "- для корректной работы все данные в датафрейме, который используется при обучении модели, должны быть в числовых форматах int или float;\n",
    "- в столбцах не должно быть пропущенных значений. Вместо каждого пропущенного значения вам нужно будет вычислить и поместить в ячейку максимально близкое к реальности значение."
   ]
  },
  {
   "cell_type": "code",
   "execution_count": 8,
   "metadata": {},
   "outputs": [],
   "source": [
    "# Создаём модель \n",
    "regr = RandomForestRegressor(n_estimators=N_ESTIMATORS)\n",
    "\n",
    "# Обучаем модель на тестовом наборе данных\n",
    "regr.fit(X_train, y_train)\n",
    "\n",
    "# Используем обученную модель для предсказания рейтинга отелей в тестовой выборке.  \n",
    "# Предсказанные значения записываем в переменную y_pred \n",
    "y_pred = regr.predict(X_test)"
   ]
  },
  {
   "cell_type": "markdown",
   "metadata": {},
   "source": [
    "### 4.3. Оценка качества модели"
   ]
  },
  {
   "cell_type": "code",
   "execution_count": 9,
   "metadata": {},
   "outputs": [
    {
     "name": "stdout",
     "output_type": "stream",
     "text": [
      "MAPE: 0.14137276548008906\n"
     ]
    }
   ],
   "source": [
    "# Сравниваем предсказанные значения (y_pred) с реальными (y_test), и смотрим насколько они отличаются  \n",
    "# Метрика называется Mean Absolute Percentage Error (MAPE) и показывает среднюю абсолютную процентную ошибку предсказанных значений от фактических.  \n",
    "train_mape = metrics.mean_absolute_percentage_error(y_test, y_pred)\n",
    "print('MAPE:', train_mape)\n",
    "# Запишем показатели метрики\n",
    "metrics = {\n",
    "    'train_mape': train_mape\n",
    "}\n",
    "experiment.log_metrics(metrics)"
   ]
  },
  {
   "cell_type": "markdown",
   "metadata": {},
   "source": [
    "### Завершение эксперимента"
   ]
  },
  {
   "cell_type": "code",
   "execution_count": 18,
   "metadata": {},
   "outputs": [
    {
     "name": "stderr",
     "output_type": "stream",
     "text": [
      "COMET INFO: ---------------------------\n",
      "COMET INFO: Comet.ml Experiment Summary\n",
      "COMET INFO: ---------------------------\n",
      "COMET INFO:   Data:\n",
      "COMET INFO:     display_summary_level : 1\n",
      "COMET INFO:     url                   : https://www.comet.com/mvulf/booking-reviews/ad4ee937797e427b887b884803a7bd7c\n",
      "COMET INFO:   Parameters:\n",
      "COMET INFO:     n_estimators : 100\n",
      "COMET INFO:     random_state : 42\n",
      "COMET INFO:     target_name  : reviewer_score\n",
      "COMET INFO:     test_size    : 0.25\n",
      "COMET INFO:   Uploads:\n",
      "COMET INFO:     conda-environment-definition : 1\n",
      "COMET INFO:     conda-info                   : 1\n",
      "COMET INFO:     conda-specification          : 1\n",
      "COMET INFO:     environment details          : 1\n",
      "COMET INFO:     filename                     : 1\n",
      "COMET INFO:     git metadata                 : 1\n",
      "COMET INFO:     git-patch (uncompressed)     : 1 (4.98 KB)\n",
      "COMET INFO:     installed packages           : 1\n",
      "COMET INFO:     notebook                     : 1\n",
      "COMET INFO:     source_code                  : 1\n",
      "COMET INFO: ---------------------------\n",
      "COMET WARNING: Comet has disabled auto-logging functionality as it has been imported after the following ML modules: sklearn. Metrics and hyperparameters can still be logged using comet_ml.log_metrics() and comet_ml.log_parameters()\n",
      "COMET INFO: Uploading 1 metrics, params and output messages\n"
     ]
    }
   ],
   "source": [
    "experiment.end()"
   ]
  },
  {
   "cell_type": "markdown",
   "metadata": {},
   "source": [
    "## *5. Валидация*\n",
    "Должна проводиться проверка того, что построенная модель решает поставленные бизнес задачи; что нет проблем бизнеса, которые не были рассмотрены.\n",
    "\n",
    "На вход поступает уже построенная модель с высокой используемой метрикой, полученной на шаге моделирования."
   ]
  }
 ],
 "metadata": {
  "kernelspec": {
   "display_name": "Python 3.8.10 ('base')",
   "language": "python",
   "name": "python3"
  },
  "language_info": {
   "codemirror_mode": {
    "name": "ipython",
    "version": 3
   },
   "file_extension": ".py",
   "mimetype": "text/x-python",
   "name": "python",
   "nbconvert_exporter": "python",
   "pygments_lexer": "ipython3",
   "version": "3.8.10"
  },
  "orig_nbformat": 4,
  "vscode": {
   "interpreter": {
    "hash": "ad2bdc8ecc057115af97d19610ffacc2b4e99fae6737bb82f5d7fb13d2f2c186"
   }
  }
 },
 "nbformat": 4,
 "nbformat_minor": 2
}

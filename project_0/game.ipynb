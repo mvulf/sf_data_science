{
 "cells": [
  {
   "cell_type": "markdown",
   "metadata": {},
   "source": [
    "# Игра угадай число"
   ]
  },
  {
   "cell_type": "markdown",
   "metadata": {},
   "source": [
    "**УСЛОВИЯ ЗАДАНИЯ**\n",
    "\n",
    "- Компьютер загадывает целое число от 1 до 100, и нам его нужно угадать. Под «угадать» подразумевается «написать программу, которая угадывает число».\n",
    "- Алгоритм учитывает информацию о том, больше или меньше случайное число нужного нам числа.\n",
    "\n",
    "**МЕТРИКА КАЧЕСТВА**\n",
    "\n",
    "Результаты оцениваются по среднему количеству попыток при 1000 повторений. Необходимо добиться минимального количества попыток."
   ]
  },
  {
   "cell_type": "markdown",
   "metadata": {},
   "source": [
    "___\n",
    "\n",
    "- Для разработки такого алгоритма создано \"ядро\", содержащее функцию-декоратор для определения среднего числа попыток, которые требуются для угадывания числа. Число тестов может быть задано произвольным на этапе инициализации функции-декоратора.\n",
    "\n",
    "- Имеется возможность выставлять различные диапазоны угадывания числа, а также запустить случайную генерацию чисел (*по умолчанию*) или загадать число вручную.\n",
    "\n",
    "- В \"ядре\" предусмотрена \"защита от дурака\" :)"
   ]
  },
  {
   "cell_type": "code",
   "execution_count": 1,
   "metadata": {},
   "outputs": [],
   "source": [
    "from game_kernel import score_game, random_predict, \\\n",
    "random_predict_range_dividing, predict_division_two\n",
    "\n",
    "# Init decorator for providing 1000 tests\n",
    "test_provider = score_game(1000)"
   ]
  },
  {
   "cell_type": "markdown",
   "metadata": {},
   "source": [
    "## Угадываем рандомно"
   ]
  },
  {
   "cell_type": "markdown",
   "metadata": {},
   "source": [
    "Первый метод случайным образом выдаёт число до тех пор, пока оно не совпадёт с угаданным"
   ]
  },
  {
   "cell_type": "code",
   "execution_count": 2,
   "metadata": {},
   "outputs": [
    {
     "name": "stdout",
     "output_type": "stream",
     "text": [
      "random_predict guesses random numbers in range [1, 100] on average in 101 attempts. Total count of tests: 1000\n"
     ]
    },
    {
     "data": {
      "text/plain": [
       "101"
      ]
     },
     "execution_count": 2,
     "metadata": {},
     "output_type": "execute_result"
    }
   ],
   "source": [
    "test_provider(random_predict)()"
   ]
  },
  {
   "cell_type": "markdown",
   "metadata": {},
   "source": [
    "В среднем, число угадывается за 101 попытку. Этот метод является опорным для сравнения с предлагаемыми ниже. Конечно, уже этот метод можно было бы модифицировать таким образом, чтобы не было повторений. Но лучше сосредоточиться на других, более быстрых подходах."
   ]
  },
  {
   "cell_type": "markdown",
   "metadata": {},
   "source": [
    "## Угадываем рандомно, но с обратной связью"
   ]
  },
  {
   "cell_type": "markdown",
   "metadata": {},
   "source": [
    "Данный метод также выдаёт значения случайным образом. Однако диапазон угадывания с каждым шагом уменьшается исходя из получаемой информации о том, является ли предполагаемое число больше загаданного, или меньше. То есть с каждым шагом предполагаемое число становится верхней или нижней границей поиска в зависимости от обратной связи"
   ]
  },
  {
   "cell_type": "code",
   "execution_count": 3,
   "metadata": {},
   "outputs": [
    {
     "name": "stdout",
     "output_type": "stream",
     "text": [
      "random_predict_range_dividing guesses random numbers in range [1, 100] on average in 9 attempts. Total count of tests: 1000\n"
     ]
    },
    {
     "data": {
      "text/plain": [
       "9"
      ]
     },
     "execution_count": 3,
     "metadata": {},
     "output_type": "execute_result"
    }
   ],
   "source": [
    "test_provider(random_predict_range_dividing)()"
   ]
  },
  {
   "cell_type": "markdown",
   "metadata": {},
   "source": [
    "В среднем, число угадывается за 9 попыток. "
   ]
  },
  {
   "cell_type": "markdown",
   "metadata": {},
   "source": [
    "## Угадываем отсечением половины\n",
    "\n",
    "*\"С самого начала у меня была какая-то тактика, и я её придерживался\"* ©\n",
    "\n",
    "И, наконец, победитель из представленных здесь алгоритмов. С каждым шагом берётся среднее значение из имеющегося диапазона, сравнивается с загаданным, и становится верхней/нижней исключающей границей следующего диапазона по результатам сравнения."
   ]
  },
  {
   "cell_type": "code",
   "execution_count": 4,
   "metadata": {},
   "outputs": [
    {
     "name": "stdout",
     "output_type": "stream",
     "text": [
      "predict_division_two guesses random numbers in range [1, 100] on average in 5 attempts. Total count of tests: 1000\n"
     ]
    },
    {
     "data": {
      "text/plain": [
       "5"
      ]
     },
     "execution_count": 4,
     "metadata": {},
     "output_type": "execute_result"
    }
   ],
   "source": [
    "test_provider(predict_division_two)()"
   ]
  },
  {
   "cell_type": "markdown",
   "metadata": {},
   "source": [
    "В среднем, число угадывается за 5 попыток.\n",
    "\n",
    "**Заключение**\n",
    "\n",
    "Таким образом, метод отсечения половины является самым быстрым методом угадывания числа из представленных здесь.\n",
    "\n",
    "***P.S.** Полагаю, что для этой задачи применение функции-декоратора было излишним. Но Он был написан в тренировочных целях для закрепления знаний по его использованию.*"
   ]
  }
 ],
 "metadata": {
  "interpreter": {
   "hash": "b4ee00c2c51c12422b031cc5ef58d9dbcd43a4698e03e62c27bf0d2126251c96"
  },
  "kernelspec": {
   "display_name": "Python 3.9.11 64-bit",
   "language": "python",
   "name": "python3"
  },
  "language_info": {
   "codemirror_mode": {
    "name": "ipython",
    "version": 3
   },
   "file_extension": ".py",
   "mimetype": "text/x-python",
   "name": "python",
   "nbconvert_exporter": "python",
   "pygments_lexer": "ipython3",
   "version": "3.9.11"
  },
  "orig_nbformat": 4
 },
 "nbformat": 4,
 "nbformat_minor": 2
}
